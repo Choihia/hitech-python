{
  "nbformat": 4,
  "nbformat_minor": 0,
  "metadata": {
    "colab": {
      "provenance": [],
      "authorship_tag": "ABX9TyMlSYpaghJq0RAkJiM3Nh8X",
      "include_colab_link": true
    },
    "kernelspec": {
      "name": "python3",
      "display_name": "Python 3"
    },
    "language_info": {
      "name": "python"
    }
  },
  "cells": [
    {
      "cell_type": "markdown",
      "metadata": {
        "id": "view-in-github",
        "colab_type": "text"
      },
      "source": [
        "<a href=\"https://colab.research.google.com/github/Choihia/hitech-python/blob/main/Diamond_spot.ipynb\" target=\"_parent\"><img src=\"https://colab.research.google.com/assets/colab-badge.svg\" alt=\"Open In Colab\"/></a>"
      ]
    },
    {
      "cell_type": "code",
      "execution_count": 54,
      "metadata": {
        "colab": {
          "base_uri": "https://localhost:8080/"
        },
        "id": "91Rb34UMBz-c",
        "outputId": "05af2fee-fd8e-404f-e5b9-ede0492cd42c"
      },
      "outputs": [
        {
          "output_type": "stream",
          "name": "stdout",
          "text": [
            "    *\n",
            "   **\n",
            "  ***\n",
            " ****\n",
            "*****\n"
          ]
        }
      ],
      "source": [
        "\n",
        "for i in range(5,0,-1):\n",
        "\tsp = ' ' *(i-1)\n",
        "\tstar = '*'*(5-i+1)\n",
        "\tprint(sp+star)"
      ]
    },
    {
      "cell_type": "code",
      "source": [
        "digits_max = 5\n",
        "for i in range(digits_max,0,-1):\n",
        "    msg_empty = f' '*(i-1)\n",
        "    msg_star = f'*'*(digits_max-i+1)\n",
        "    print(i, msg_empty+msg_star)"
      ],
      "metadata": {
        "colab": {
          "base_uri": "https://localhost:8080/"
        },
        "id": "19NFJ2NXCVE5",
        "outputId": "6c606284-7438-4272-caf6-8b7589042568"
      },
      "execution_count": 6,
      "outputs": [
        {
          "output_type": "stream",
          "name": "stdout",
          "text": [
            "5     *\n",
            "4    **\n",
            "3   ***\n",
            "2  ****\n",
            "1 *****\n"
          ]
        }
      ]
    },
    {
      "cell_type": "code",
      "source": [
        "digits_max = 5\n",
        "for i in range(digits_max+1,0,2):\n",
        "  msg_empty = f' '*(digits_max-i)\n",
        "  msg_star = f'*'*(digits_max-i+1)\n",
        "  print(i,msg_empty+msg_star)\n",
        "for i in range (0,digits_max,-2):\n",
        "  msg_empty = ' ' *(i)\n",
        "  msg_star = '*'*(digits_max-i)\n",
        "  print(i,msg_empty+msg_star)"
      ],
      "metadata": {
        "id": "4_ausNRuE7pm"
      },
      "execution_count": 68,
      "outputs": []
    },
    {
      "cell_type": "code",
      "source": [
        "digits_max = 7\n",
        "for i in range(1, digits_max + 1, 2):\n",
        "  msg_empty = f' ' * ((digits_max - i) // 2)\n",
        "  msg_star = f\"*\" * i\n",
        "  print(msg_empty+ msg_star)\n",
        "\n",
        "    # 아래쪽 삼각형 출력\n",
        "for i in range(digits_max-2, 0, -2):\n",
        "  msg_empty = f' ' * ((digits_max - i) // 2)\n",
        "  msg_star = f\"*\" * i\n",
        "  print(msg_empty+ msg_star)"
      ],
      "metadata": {
        "colab": {
          "base_uri": "https://localhost:8080/"
        },
        "id": "ldrG3LTWOIFk",
        "outputId": "9ed9353d-2175-4ded-a349-66d3dd3c6d16"
      },
      "execution_count": 77,
      "outputs": [
        {
          "output_type": "stream",
          "name": "stdout",
          "text": [
            "   *\n",
            "  ***\n",
            " *****\n",
            "*******\n",
            " *****\n",
            "  ***\n",
            "   *\n"
          ]
        }
      ]
    }
  ]
}