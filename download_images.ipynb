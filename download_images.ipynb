{
  "nbformat": 4,
  "nbformat_minor": 0,
  "metadata": {
    "colab": {
      "provenance": [],
      "authorship_tag": "ABX9TyMIJxz2A31+RFv8AmzSFhFL",
      "include_colab_link": true
    },
    "kernelspec": {
      "name": "python3",
      "display_name": "Python 3"
    },
    "language_info": {
      "name": "python"
    }
  },
  "cells": [
    {
      "cell_type": "markdown",
      "metadata": {
        "id": "view-in-github",
        "colab_type": "text"
      },
      "source": [
        "<a href=\"https://colab.research.google.com/github/Choihia/hitech-python/blob/main/download_images.ipynb\" target=\"_parent\"><img src=\"https://colab.research.google.com/assets/colab-badge.svg\" alt=\"Open In Colab\"/></a>"
      ]
    },
    {
      "cell_type": "code",
      "execution_count": 2,
      "metadata": {
        "colab": {
          "base_uri": "https://localhost:8080/"
        },
        "id": "Bb4K6yHLmG2F",
        "outputId": "24978702-51b5-4445-83fb-4359a64582f6"
      },
      "outputs": [
        {
          "output_type": "stream",
          "name": "stdout",
          "text": [
            "Collecting bing-image-downloader\n",
            "  Downloading bing_image_downloader-1.1.2-py3-none-any.whl (5.9 kB)\n",
            "Installing collected packages: bing-image-downloader\n",
            "Successfully installed bing-image-downloader-1.1.2\n"
          ]
        }
      ],
      "source": [
        "!pip install bing-image-downloader"
      ]
    },
    {
      "cell_type": "code",
      "source": [
        "from bing_image_downloader import downloader\n",
        "from pathlib import Path"
      ],
      "metadata": {
        "id": "4zXcdrFcmdBZ"
      },
      "execution_count": 3,
      "outputs": []
    },
    {
      "cell_type": "code",
      "source": [
        "def download_images(keyword, nim_images, file_name):\n",
        "  output_directory = \"images\"\n",
        "  downloader.download(keyword, limit=num_images,output_dir=output_directory, adult_filter_off=True, force_replace=False,timeout=60)\n",
        "\n",
        "  root = Path().cwd()/ output_directory\n",
        "  download_files = list (root.glob(\"*.*\"))\n",
        "  for i, file in enumerate(download_files):\n",
        "    extension = file.suffix\n",
        "    new_file_name = F\"{file_name} {i+1} {extension}\"\n",
        "    new_file_path = root / new_file_name\n",
        "    file.rename(new_file_path)\n",
        "\n",
        "keyword = \"도넛\"\n",
        "num_images = 30\n",
        "file_name = \"도넛\"\n",
        "\n",
        "from google.colab import drive\n",
        "drive.mount('/content/drive')\n",
        "\n",
        "download_images(keyword, num_images,file_name)\n",
        "\n",
        "import shutil\n",
        "\n",
        "def compress_folder(folder_path, output_path):\n",
        "  shutil.make_archive(output_path,'zip',folder_path)\n",
        "\n",
        "  folder_path = \"images\"\n",
        "  output_path = \"images\"\n",
        "  compress_folder(folder_path, output_path)"
      ],
      "metadata": {
        "id": "o-oOUs0-myUt"
      },
      "execution_count": null,
      "outputs": []
    },
    {
      "cell_type": "code",
      "source": [],
      "metadata": {
        "id": "AJ5P2tv-uu5I"
      },
      "execution_count": null,
      "outputs": []
    }
  ]
}